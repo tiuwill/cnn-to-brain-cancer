{
  "nbformat": 4,
  "nbformat_minor": 0,
  "metadata": {
    "kernelspec": {
      "name": "python3",
      "display_name": "Python 3"
    },
    "language_info": {
      "codemirror_mode": {
        "name": "ipython",
        "version": 3
      },
      "file_extension": ".py",
      "mimetype": "text/x-python",
      "name": "python",
      "nbconvert_exporter": "python",
      "pygments_lexer": "ipython3",
      "version": "3.5.5"
    },
    "colab": {
      "name": "Detect Brain Cancer With CNN.ipynb",
      "version": "0.3.2",
      "provenance": [],
      "collapsed_sections": []
    },
    "accelerator": "TPU"
  },
  "cells": [
    {
      "cell_type": "markdown",
      "metadata": {
        "id": "PxkWwhH8bPf9",
        "colab_type": "text"
      },
      "source": [
        "Testando aqui para ver se consigo pegar os dados dentro do google colab"
      ]
    },
    {
      "cell_type": "code",
      "metadata": {
        "id": "DjjVzrFJbPgB",
        "colab_type": "code",
        "colab": {
          "base_uri": "https://localhost:8080/",
          "height": 136
        },
        "outputId": "961ee709-3fc1-4f13-fc81-8c05c311fac8"
      },
      "source": [
        "!git clone https://github.com/tiuwill/cnn-to-brain-cancer.git"
      ],
      "execution_count": 5,
      "outputs": [
        {
          "output_type": "stream",
          "text": [
            "Cloning into 'cnn-to-brain-cancer'...\n",
            "remote: Enumerating objects: 243, done.\u001b[K\n",
            "remote: Counting objects: 100% (243/243), done.\u001b[K\n",
            "remote: Compressing objects: 100% (239/239), done.\u001b[K\n",
            "remote: Total 243 (delta 3), reused 240 (delta 3), pack-reused 0\n",
            "Receiving objects: 100% (243/243), 6.84 MiB | 25.48 MiB/s, done.\n",
            "Resolving deltas: 100% (3/3), done.\n"
          ],
          "name": "stdout"
        }
      ]
    },
    {
      "cell_type": "code",
      "metadata": {
        "id": "y3JiXnkIbiPe",
        "colab_type": "code",
        "colab": {
          "base_uri": "https://localhost:8080/",
          "height": 34
        },
        "outputId": "9def4f18-25b9-465a-dbb4-96971895dba6"
      },
      "source": [
        "!ls cnn-to-brain-cancer"
      ],
      "execution_count": 6,
      "outputs": [
        {
          "output_type": "stream",
          "text": [
            " data  'Detect Brain Cancer With CNN.ipynb'   README.md\n"
          ],
          "name": "stdout"
        }
      ]
    },
    {
      "cell_type": "code",
      "metadata": {
        "id": "aqtcJrXzbnjO",
        "colab_type": "code",
        "colab": {}
      },
      "source": [
        "import numpy as np\n",
        "from glob import glob\n",
        "\n",
        "\n",
        "def load_data(path, target):\n",
        "  brains = glob(path)\n",
        "  targets = [target] * len(brains)\n",
        "  assert len(brains) == len(targets)\n",
        "  return brains, targets\n",
        "\n",
        "positive_brains, positive_targets = load_data('./cnn-to-brain-cancer/data/yes/*',1)\n",
        "negative_brains, negative_targets = load_data('./cnn-to-brain-cancer/data/no/*', 0)\n",
        "\n",
        "  "
      ],
      "execution_count": 0,
      "outputs": []
    },
    {
      "cell_type": "code",
      "metadata": {
        "id": "pCxqGXIIcxqz",
        "colab_type": "code",
        "colab": {}
      },
      "source": [
        "#JOININ DATA\n",
        "import pandas as pd\n",
        "\n",
        "brains = positive_brains + negative_brains\n",
        "\n",
        "assert len(brains) == (len(positive_brains) + len(negative_brains))\n",
        "\n",
        "targets = positive_targets + negative_targets\n",
        "\n",
        "assert len(targets) == (len(positive_targets) + len(negative_targets))\n",
        "\n",
        "data = pd.DataFrame()\n",
        "\n"
      ],
      "execution_count": 0,
      "outputs": []
    },
    {
      "cell_type": "code",
      "metadata": {
        "id": "HNP0mchsbyqi",
        "colab_type": "code",
        "colab": {}
      },
      "source": [
        "#SPLITING TRAIN TEST AND VALIDATION\n",
        "\n",
        "from sklearn.model_selection import train_test_split\n",
        "\n",
        "\n",
        "X_train, X_test, y_train, y_test = train_test_split(brains, targets, test_size=0.2, random_state=1, stratify=targets)\n",
        "\n",
        "X_train, X_val, y_train, y_val = train_test_split(X_train, y_train, test_size=0.2, random_state=1, stratify=y_train)\n"
      ],
      "execution_count": 0,
      "outputs": []
    },
    {
      "cell_type": "code",
      "metadata": {
        "id": "TplJOT0ShZSI",
        "colab_type": "code",
        "colab": {}
      },
      "source": [
        "#PRocessando as imagens, dimensionando as imagens para que as mesmas tenham\n",
        "#O mesmo tamanho e carregando as em um vetor\n",
        "\n",
        "from keras.preprocessing import image\n",
        "from tqdm import tqdm\n",
        "\n",
        "\n",
        "def path_to_tensor(img_path):\n",
        "  #Carregar a imagem em formato RGB\n",
        "  img = image.load_img(img_path, target_size=(224, 224))\n",
        "  #Convertendo para um array de 224, 224, 3\n",
        "  x = image.img_to_array(img)\n",
        "  \n",
        "  #retorna um array de 4 dimensões sendo:\n",
        "  #quantidade de imagens\n",
        "  #altura\n",
        "  #largura\n",
        "  #rgb (3 camadas)\n",
        "  return np.expand_dims(x, axis=0)\n",
        "  \n",
        "  \n",
        "  \n",
        "def paths_to_tensor(img_paths):\n",
        "  list_of_tensors = [path_to_tensor(img_path) for img_path in tqdm(img_paths)]\n",
        "  return np.vstack(list_of_tensors)\n",
        "\n"
      ],
      "execution_count": 0,
      "outputs": []
    },
    {
      "cell_type": "code",
      "metadata": {
        "id": "p5DwuXD5luyK",
        "colab_type": "code",
        "colab": {
          "base_uri": "https://localhost:8080/",
          "height": 68
        },
        "outputId": "08fba685-de5f-4793-a058-5b71e6a9f941"
      },
      "source": [
        "#Pre processando as imagens\n",
        "from PIL import ImageFile                            \n",
        "ImageFile.LOAD_TRUNCATED_IMAGES = True  \n",
        "\n",
        "train_tensors = paths_to_tensor(X_train).astype('float32')/255\n",
        "valid_tensors = paths_to_tensor(X_val).astype('float32')/255\n",
        "test_tensors = paths_to_tensor(X_test).astype('float32')/255\n",
        "\n",
        "\n",
        "\n"
      ],
      "execution_count": 24,
      "outputs": [
        {
          "output_type": "stream",
          "text": [
            "100%|██████████| 161/161 [00:00<00:00, 302.90it/s]\n",
            "100%|██████████| 41/41 [00:00<00:00, 213.48it/s]\n",
            "100%|██████████| 51/51 [00:00<00:00, 307.96it/s]\n"
          ],
          "name": "stderr"
        }
      ]
    },
    {
      "cell_type": "code",
      "metadata": {
        "id": "f6AqCuP6saY1",
        "colab_type": "code",
        "colab": {
          "base_uri": "https://localhost:8080/",
          "height": 476
        },
        "outputId": "b67f5dfc-8cba-4c70-a2fc-08753308f242"
      },
      "source": [
        "#Criando uma rede neural para prever os dados de tumor no cerebro from scratch\n",
        "\n",
        "from keras.layers import Conv2D, MaxPooling2D, GlobalAveragePooling2D\n",
        "from keras.layers import Dropout, Flatten, Dense\n",
        "from keras.models import Sequential\n",
        "\n",
        "\n",
        "model = Sequential()\n",
        "\n",
        "model.add(Conv2D(filters=16, kernel_size=2, padding='same', activation='relu', input_shape=(224, 224,3)))\n",
        "model.add(MaxPooling2D(pool_size=2))\n",
        "model.add(Conv2D(filters=32, kernel_size=2, padding='same', activation='relu'))\n",
        "model.add(MaxPooling2D(pool_size=2))\n",
        "model.add(Conv2D(filters=64, kernel_size=2, padding='same', activation='relu'))\n",
        "model.add(MaxPooling2D(pool_size=2))\n",
        "model.add(Dropout(0.3))\n",
        "model.add(GlobalAveragePooling2D())\n",
        "model.add(Dropout(0.4))\n",
        "model.add(Dense(2, activation='sigmoid'))\n",
        "\n",
        "model.summary()\n"
      ],
      "execution_count": 30,
      "outputs": [
        {
          "output_type": "stream",
          "text": [
            "_________________________________________________________________\n",
            "Layer (type)                 Output Shape              Param #   \n",
            "=================================================================\n",
            "conv2d_5 (Conv2D)            (None, 224, 224, 16)      208       \n",
            "_________________________________________________________________\n",
            "max_pooling2d_4 (MaxPooling2 (None, 112, 112, 16)      0         \n",
            "_________________________________________________________________\n",
            "conv2d_6 (Conv2D)            (None, 112, 112, 32)      2080      \n",
            "_________________________________________________________________\n",
            "max_pooling2d_5 (MaxPooling2 (None, 56, 56, 32)        0         \n",
            "_________________________________________________________________\n",
            "conv2d_7 (Conv2D)            (None, 56, 56, 64)        8256      \n",
            "_________________________________________________________________\n",
            "max_pooling2d_6 (MaxPooling2 (None, 28, 28, 64)        0         \n",
            "_________________________________________________________________\n",
            "dropout_3 (Dropout)          (None, 28, 28, 64)        0         \n",
            "_________________________________________________________________\n",
            "global_average_pooling2d_2 ( (None, 64)                0         \n",
            "_________________________________________________________________\n",
            "dropout_4 (Dropout)          (None, 64)                0         \n",
            "_________________________________________________________________\n",
            "dense_2 (Dense)              (None, 2)                 130       \n",
            "=================================================================\n",
            "Total params: 10,674\n",
            "Trainable params: 10,674\n",
            "Non-trainable params: 0\n",
            "_________________________________________________________________\n"
          ],
          "name": "stdout"
        }
      ]
    },
    {
      "cell_type": "code",
      "metadata": {
        "id": "kw0ntTB1uZVb",
        "colab_type": "code",
        "colab": {}
      },
      "source": [
        "model.compile(optimizer='rmsprop', loss='categorical_crossentropy', metrics=['accuracy'])"
      ],
      "execution_count": 0,
      "outputs": []
    },
    {
      "cell_type": "code",
      "metadata": {
        "id": "drJ6ldRazIvf",
        "colab_type": "code",
        "colab": {}
      },
      "source": [
        "!mkdir saved_models"
      ],
      "execution_count": 0,
      "outputs": []
    },
    {
      "cell_type": "code",
      "metadata": {
        "id": "lpKLDRNBxMiq",
        "colab_type": "code",
        "colab": {
          "base_uri": "https://localhost:8080/",
          "height": 1000
        },
        "outputId": "1c2aa303-2087-4688-b921-da889becf51a"
      },
      "source": [
        "#Training from scratch\n",
        "\n",
        "from keras.callbacks import ModelCheckpoint  \n",
        "from keras.utils import to_categorical\n",
        "\n",
        "\n",
        "epochs = 50\n",
        "\n",
        "\n",
        "checkpointer = ModelCheckpoint(filepath='saved_models/weights.best.from_scratch_no_transfer.hdf5',\n",
        "                              verbose=1, save_best_only=True)\n",
        "\n",
        "\n",
        "model.fit(train_tensors, to_categorical(y_train),\n",
        "         validation_data=(valid_tensors, to_categorical(y_val)),\n",
        "         epochs=epochs, batch_size=20, callbacks=[checkpointer], verbose=1)\n",
        "\n",
        "\n"
      ],
      "execution_count": 95,
      "outputs": [
        {
          "output_type": "stream",
          "text": [
            "Train on 161 samples, validate on 41 samples\n",
            "Epoch 1/50\n",
            "161/161 [==============================] - 5s 34ms/step - loss: 0.5731 - acc: 0.7267 - val_loss: 0.6515 - val_acc: 0.6829\n",
            "\n",
            "Epoch 00001: val_loss improved from inf to 0.65148, saving model to saved_models/weights.best.from_scratch_no_transfer.hdf5\n",
            "Epoch 2/50\n",
            "161/161 [==============================] - 5s 34ms/step - loss: 0.5637 - acc: 0.7081 - val_loss: 0.6682 - val_acc: 0.7073\n",
            "\n",
            "Epoch 00002: val_loss did not improve from 0.65148\n",
            "Epoch 3/50\n",
            "161/161 [==============================] - 5s 34ms/step - loss: 0.5895 - acc: 0.7143 - val_loss: 0.6323 - val_acc: 0.7317\n",
            "\n",
            "Epoch 00003: val_loss improved from 0.65148 to 0.63231, saving model to saved_models/weights.best.from_scratch_no_transfer.hdf5\n",
            "Epoch 4/50\n",
            "161/161 [==============================] - 5s 34ms/step - loss: 0.5545 - acc: 0.7391 - val_loss: 0.6523 - val_acc: 0.7317\n",
            "\n",
            "Epoch 00004: val_loss did not improve from 0.63231\n",
            "Epoch 5/50\n",
            "161/161 [==============================] - 5s 34ms/step - loss: 0.5536 - acc: 0.7764 - val_loss: 0.6568 - val_acc: 0.6829\n",
            "\n",
            "Epoch 00005: val_loss did not improve from 0.63231\n",
            "Epoch 6/50\n",
            "161/161 [==============================] - 5s 34ms/step - loss: 0.5747 - acc: 0.6957 - val_loss: 0.6667 - val_acc: 0.6829\n",
            "\n",
            "Epoch 00006: val_loss did not improve from 0.63231\n",
            "Epoch 7/50\n",
            "161/161 [==============================] - 5s 34ms/step - loss: 0.5820 - acc: 0.7143 - val_loss: 0.6642 - val_acc: 0.6829\n",
            "\n",
            "Epoch 00007: val_loss did not improve from 0.63231\n",
            "Epoch 8/50\n",
            "161/161 [==============================] - 5s 34ms/step - loss: 0.5789 - acc: 0.6957 - val_loss: 0.6307 - val_acc: 0.7073\n",
            "\n",
            "Epoch 00008: val_loss improved from 0.63231 to 0.63072, saving model to saved_models/weights.best.from_scratch_no_transfer.hdf5\n",
            "Epoch 9/50\n",
            "161/161 [==============================] - 5s 34ms/step - loss: 0.5651 - acc: 0.7143 - val_loss: 0.6873 - val_acc: 0.6098\n",
            "\n",
            "Epoch 00009: val_loss did not improve from 0.63072\n",
            "Epoch 10/50\n",
            "161/161 [==============================] - 5s 34ms/step - loss: 0.5766 - acc: 0.7081 - val_loss: 0.6388 - val_acc: 0.6585\n",
            "\n",
            "Epoch 00010: val_loss did not improve from 0.63072\n",
            "Epoch 11/50\n",
            "161/161 [==============================] - 6s 34ms/step - loss: 0.5505 - acc: 0.7640 - val_loss: 0.6449 - val_acc: 0.7317\n",
            "\n",
            "Epoch 00011: val_loss did not improve from 0.63072\n",
            "Epoch 12/50\n",
            "161/161 [==============================] - 5s 34ms/step - loss: 0.5736 - acc: 0.7081 - val_loss: 0.6980 - val_acc: 0.6098\n",
            "\n",
            "Epoch 00012: val_loss did not improve from 0.63072\n",
            "Epoch 13/50\n",
            "161/161 [==============================] - 6s 34ms/step - loss: 0.5879 - acc: 0.6832 - val_loss: 0.6376 - val_acc: 0.6585\n",
            "\n",
            "Epoch 00013: val_loss did not improve from 0.63072\n",
            "Epoch 14/50\n",
            "161/161 [==============================] - 5s 34ms/step - loss: 0.5737 - acc: 0.6708 - val_loss: 0.6690 - val_acc: 0.7073\n",
            "\n",
            "Epoch 00014: val_loss did not improve from 0.63072\n",
            "Epoch 15/50\n",
            "161/161 [==============================] - 6s 34ms/step - loss: 0.5968 - acc: 0.7019 - val_loss: 0.6348 - val_acc: 0.7317\n",
            "\n",
            "Epoch 00015: val_loss did not improve from 0.63072\n",
            "Epoch 16/50\n",
            "161/161 [==============================] - 5s 34ms/step - loss: 0.5483 - acc: 0.7516 - val_loss: 0.7163 - val_acc: 0.5610\n",
            "\n",
            "Epoch 00016: val_loss did not improve from 0.63072\n",
            "Epoch 17/50\n",
            "161/161 [==============================] - 6s 34ms/step - loss: 0.5800 - acc: 0.6832 - val_loss: 0.6367 - val_acc: 0.7317\n",
            "\n",
            "Epoch 00017: val_loss did not improve from 0.63072\n",
            "Epoch 18/50\n",
            "161/161 [==============================] - 5s 34ms/step - loss: 0.5858 - acc: 0.7143 - val_loss: 0.6395 - val_acc: 0.7073\n",
            "\n",
            "Epoch 00018: val_loss did not improve from 0.63072\n",
            "Epoch 19/50\n",
            "161/161 [==============================] - 6s 34ms/step - loss: 0.5560 - acc: 0.6957 - val_loss: 0.6517 - val_acc: 0.6829\n",
            "\n",
            "Epoch 00019: val_loss did not improve from 0.63072\n",
            "Epoch 20/50\n",
            "161/161 [==============================] - 5s 34ms/step - loss: 0.5548 - acc: 0.7516 - val_loss: 0.6317 - val_acc: 0.7317\n",
            "\n",
            "Epoch 00020: val_loss did not improve from 0.63072\n",
            "Epoch 21/50\n",
            "161/161 [==============================] - 6s 34ms/step - loss: 0.5601 - acc: 0.7453 - val_loss: 0.6350 - val_acc: 0.6585\n",
            "\n",
            "Epoch 00021: val_loss did not improve from 0.63072\n",
            "Epoch 22/50\n",
            "161/161 [==============================] - 5s 34ms/step - loss: 0.5526 - acc: 0.7329 - val_loss: 0.6872 - val_acc: 0.5854\n",
            "\n",
            "Epoch 00022: val_loss did not improve from 0.63072\n",
            "Epoch 23/50\n",
            "161/161 [==============================] - 6s 34ms/step - loss: 0.5878 - acc: 0.6708 - val_loss: 0.6474 - val_acc: 0.7317\n",
            "\n",
            "Epoch 00023: val_loss did not improve from 0.63072\n",
            "Epoch 24/50\n",
            "161/161 [==============================] - 5s 34ms/step - loss: 0.5780 - acc: 0.6957 - val_loss: 0.6497 - val_acc: 0.6829\n",
            "\n",
            "Epoch 00024: val_loss did not improve from 0.63072\n",
            "Epoch 25/50\n",
            "161/161 [==============================] - 5s 34ms/step - loss: 0.5675 - acc: 0.6957 - val_loss: 0.7123 - val_acc: 0.5610\n",
            "\n",
            "Epoch 00025: val_loss did not improve from 0.63072\n",
            "Epoch 26/50\n",
            "161/161 [==============================] - 5s 34ms/step - loss: 0.5651 - acc: 0.6957 - val_loss: 0.6787 - val_acc: 0.6341\n",
            "\n",
            "Epoch 00026: val_loss did not improve from 0.63072\n",
            "Epoch 27/50\n",
            "161/161 [==============================] - 5s 34ms/step - loss: 0.5656 - acc: 0.7019 - val_loss: 0.6509 - val_acc: 0.6829\n",
            "\n",
            "Epoch 00027: val_loss did not improve from 0.63072\n",
            "Epoch 28/50\n",
            "161/161 [==============================] - 5s 34ms/step - loss: 0.5707 - acc: 0.7081 - val_loss: 0.6418 - val_acc: 0.6585\n",
            "\n",
            "Epoch 00028: val_loss did not improve from 0.63072\n",
            "Epoch 29/50\n",
            "161/161 [==============================] - 5s 34ms/step - loss: 0.5524 - acc: 0.7267 - val_loss: 0.6625 - val_acc: 0.7073\n",
            "\n",
            "Epoch 00029: val_loss did not improve from 0.63072\n",
            "Epoch 30/50\n",
            "161/161 [==============================] - 5s 34ms/step - loss: 0.5473 - acc: 0.6957 - val_loss: 0.6817 - val_acc: 0.6829\n",
            "\n",
            "Epoch 00030: val_loss did not improve from 0.63072\n",
            "Epoch 31/50\n",
            "161/161 [==============================] - 5s 34ms/step - loss: 0.6034 - acc: 0.6832 - val_loss: 0.6506 - val_acc: 0.6829\n",
            "\n",
            "Epoch 00031: val_loss did not improve from 0.63072\n",
            "Epoch 32/50\n",
            "161/161 [==============================] - 6s 34ms/step - loss: 0.5546 - acc: 0.7081 - val_loss: 0.6497 - val_acc: 0.6829\n",
            "\n",
            "Epoch 00032: val_loss did not improve from 0.63072\n",
            "Epoch 33/50\n",
            "161/161 [==============================] - 5s 34ms/step - loss: 0.5637 - acc: 0.7267 - val_loss: 0.6404 - val_acc: 0.6585\n",
            "\n",
            "Epoch 00033: val_loss did not improve from 0.63072\n",
            "Epoch 34/50\n",
            "161/161 [==============================] - 5s 34ms/step - loss: 0.5525 - acc: 0.7143 - val_loss: 0.6549 - val_acc: 0.7317\n",
            "\n",
            "Epoch 00034: val_loss did not improve from 0.63072\n",
            "Epoch 35/50\n",
            "161/161 [==============================] - 5s 34ms/step - loss: 0.5262 - acc: 0.7019 - val_loss: 0.6647 - val_acc: 0.6829\n",
            "\n",
            "Epoch 00035: val_loss did not improve from 0.63072\n",
            "Epoch 36/50\n",
            "161/161 [==============================] - 5s 34ms/step - loss: 0.5817 - acc: 0.7329 - val_loss: 0.6310 - val_acc: 0.7317\n",
            "\n",
            "Epoch 00036: val_loss did not improve from 0.63072\n",
            "Epoch 37/50\n",
            "161/161 [==============================] - 5s 34ms/step - loss: 0.5665 - acc: 0.7143 - val_loss: 0.6462 - val_acc: 0.6585\n",
            "\n",
            "Epoch 00037: val_loss did not improve from 0.63072\n",
            "Epoch 38/50\n",
            "161/161 [==============================] - 5s 34ms/step - loss: 0.5654 - acc: 0.6894 - val_loss: 0.6330 - val_acc: 0.7561\n",
            "\n",
            "Epoch 00038: val_loss did not improve from 0.63072\n",
            "Epoch 39/50\n",
            "161/161 [==============================] - 5s 34ms/step - loss: 0.5373 - acc: 0.7702 - val_loss: 0.7234 - val_acc: 0.5854\n",
            "\n",
            "Epoch 00039: val_loss did not improve from 0.63072\n",
            "Epoch 40/50\n",
            "161/161 [==============================] - 6s 34ms/step - loss: 0.5693 - acc: 0.7205 - val_loss: 0.6324 - val_acc: 0.7317\n",
            "\n",
            "Epoch 00040: val_loss did not improve from 0.63072\n",
            "Epoch 41/50\n",
            "161/161 [==============================] - 5s 34ms/step - loss: 0.5196 - acc: 0.7143 - val_loss: 0.6798 - val_acc: 0.6585\n",
            "\n",
            "Epoch 00041: val_loss did not improve from 0.63072\n",
            "Epoch 42/50\n",
            "161/161 [==============================] - 5s 34ms/step - loss: 0.5544 - acc: 0.7329 - val_loss: 0.6450 - val_acc: 0.7317\n",
            "\n",
            "Epoch 00042: val_loss did not improve from 0.63072\n",
            "Epoch 43/50\n",
            "161/161 [==============================] - 5s 34ms/step - loss: 0.5655 - acc: 0.6894 - val_loss: 0.7157 - val_acc: 0.5610\n",
            "\n",
            "Epoch 00043: val_loss did not improve from 0.63072\n",
            "Epoch 44/50\n",
            "161/161 [==============================] - 5s 34ms/step - loss: 0.5933 - acc: 0.6894 - val_loss: 0.6429 - val_acc: 0.7317\n",
            "\n",
            "Epoch 00044: val_loss did not improve from 0.63072\n",
            "Epoch 45/50\n",
            "161/161 [==============================] - 6s 35ms/step - loss: 0.5662 - acc: 0.7453 - val_loss: 0.6361 - val_acc: 0.7317\n",
            "\n",
            "Epoch 00045: val_loss did not improve from 0.63072\n",
            "Epoch 46/50\n",
            "161/161 [==============================] - 6s 34ms/step - loss: 0.5952 - acc: 0.6957 - val_loss: 0.6492 - val_acc: 0.7073\n",
            "\n",
            "Epoch 00046: val_loss did not improve from 0.63072\n",
            "Epoch 47/50\n",
            "161/161 [==============================] - 6s 34ms/step - loss: 0.5543 - acc: 0.7205 - val_loss: 0.6554 - val_acc: 0.7073\n",
            "\n",
            "Epoch 00047: val_loss did not improve from 0.63072\n",
            "Epoch 48/50\n",
            "161/161 [==============================] - 5s 34ms/step - loss: 0.5582 - acc: 0.7143 - val_loss: 0.6273 - val_acc: 0.7317\n",
            "\n",
            "Epoch 00048: val_loss improved from 0.63072 to 0.62731, saving model to saved_models/weights.best.from_scratch_no_transfer.hdf5\n",
            "Epoch 49/50\n",
            "161/161 [==============================] - 6s 34ms/step - loss: 0.5256 - acc: 0.7640 - val_loss: 0.6319 - val_acc: 0.7317\n",
            "\n",
            "Epoch 00049: val_loss did not improve from 0.62731\n",
            "Epoch 50/50\n",
            "161/161 [==============================] - 5s 34ms/step - loss: 0.5706 - acc: 0.7143 - val_loss: 0.6647 - val_acc: 0.6829\n",
            "\n",
            "Epoch 00050: val_loss did not improve from 0.62731\n"
          ],
          "name": "stdout"
        },
        {
          "output_type": "execute_result",
          "data": {
            "text/plain": [
              "<keras.callbacks.History at 0x7f0b581b7ac8>"
            ]
          },
          "metadata": {
            "tags": []
          },
          "execution_count": 95
        }
      ]
    },
    {
      "cell_type": "code",
      "metadata": {
        "id": "sDHukbqcyiMO",
        "colab_type": "code",
        "colab": {}
      },
      "source": [
        "model.load_weights('saved_models/weights.best.from_scratch_no_transfer.hdf5')"
      ],
      "execution_count": 0,
      "outputs": []
    },
    {
      "cell_type": "code",
      "metadata": {
        "id": "kMOUOsMeYs_5",
        "colab_type": "code",
        "colab": {}
      },
      "source": [
        "from google.colab import files\n",
        "files.download('saved_models/weights.best.from_scratch_no_transfer.hdf5') "
      ],
      "execution_count": 0,
      "outputs": []
    },
    {
      "cell_type": "code",
      "metadata": {
        "id": "Gd98GoZ2zt3q",
        "colab_type": "code",
        "colab": {
          "base_uri": "https://localhost:8080/",
          "height": 34
        },
        "outputId": "d471d8ad-3237-4648-b27c-a71dee5de4c2"
      },
      "source": [
        "# get index of predicted dog breed for each image in test set\n",
        "predictions = [np.argmax(model.predict(np.expand_dims(tensor, axis=0))) for tensor in test_tensors]\n",
        "\n",
        "\n",
        "# report test accuracy\n",
        "test_accuracy = 100*np.sum(np.array(predictions)==np.argmax(to_categorical(y_test), axis=1))/len(predictions)\n",
        "print('Test accuracy: %.4f%%' % test_accuracy)"
      ],
      "execution_count": 97,
      "outputs": [
        {
          "output_type": "stream",
          "text": [
            "Test accuracy: 72.5490%\n"
          ],
          "name": "stdout"
        }
      ]
    },
    {
      "cell_type": "code",
      "metadata": {
        "id": "VuAOiux30J-E",
        "colab_type": "code",
        "colab": {
          "base_uri": "https://localhost:8080/",
          "height": 884
        },
        "outputId": "7f4e5727-0052-4c26-da3c-ad3dcfa68d3d"
      },
      "source": [
        "print(to_categorical(y_test))"
      ],
      "execution_count": 67,
      "outputs": [
        {
          "output_type": "stream",
          "text": [
            "[[1. 0.]\n",
            " [0. 1.]\n",
            " [0. 1.]\n",
            " [0. 1.]\n",
            " [0. 1.]\n",
            " [0. 1.]\n",
            " [0. 1.]\n",
            " [0. 1.]\n",
            " [1. 0.]\n",
            " [0. 1.]\n",
            " [0. 1.]\n",
            " [1. 0.]\n",
            " [0. 1.]\n",
            " [1. 0.]\n",
            " [0. 1.]\n",
            " [0. 1.]\n",
            " [0. 1.]\n",
            " [1. 0.]\n",
            " [0. 1.]\n",
            " [0. 1.]\n",
            " [1. 0.]\n",
            " [0. 1.]\n",
            " [1. 0.]\n",
            " [0. 1.]\n",
            " [0. 1.]\n",
            " [0. 1.]\n",
            " [1. 0.]\n",
            " [1. 0.]\n",
            " [1. 0.]\n",
            " [1. 0.]\n",
            " [1. 0.]\n",
            " [1. 0.]\n",
            " [0. 1.]\n",
            " [0. 1.]\n",
            " [0. 1.]\n",
            " [0. 1.]\n",
            " [0. 1.]\n",
            " [0. 1.]\n",
            " [0. 1.]\n",
            " [1. 0.]\n",
            " [1. 0.]\n",
            " [0. 1.]\n",
            " [1. 0.]\n",
            " [0. 1.]\n",
            " [1. 0.]\n",
            " [0. 1.]\n",
            " [1. 0.]\n",
            " [0. 1.]\n",
            " [0. 1.]\n",
            " [1. 0.]\n",
            " [1. 0.]]\n"
          ],
          "name": "stdout"
        }
      ]
    },
    {
      "cell_type": "code",
      "metadata": {
        "id": "458HimYx0V1p",
        "colab_type": "code",
        "colab": {
          "base_uri": "https://localhost:8080/",
          "height": 34
        },
        "outputId": "4bd3b332-3104-4ecd-972d-b92e954af960"
      },
      "source": [
        "print(predictions)"
      ],
      "execution_count": 68,
      "outputs": [
        {
          "output_type": "stream",
          "text": [
            "[0, 1, 1, 1, 1, 1, 1, 1, 1, 1, 1, 1, 1, 0, 1, 1, 1, 1, 0, 0, 1, 1, 0, 1, 1, 1, 1, 0, 0, 1, 1, 1, 1, 1, 1, 0, 1, 1, 1, 0, 1, 1, 0, 1, 1, 1, 0, 0, 0, 0, 0]\n"
          ],
          "name": "stdout"
        }
      ]
    },
    {
      "cell_type": "code",
      "metadata": {
        "id": "Dnd1ev0y01Y9",
        "colab_type": "code",
        "colab": {}
      },
      "source": [
        "results = np.array(predictions)==y_test"
      ],
      "execution_count": 0,
      "outputs": []
    },
    {
      "cell_type": "code",
      "metadata": {
        "id": "c6sbX9Jj1Xlf",
        "colab_type": "code",
        "colab": {}
      },
      "source": [
        "results2 = np.array(predictions)==np.argmax(to_categorical(y_test), axis=1)"
      ],
      "execution_count": 0,
      "outputs": []
    },
    {
      "cell_type": "code",
      "metadata": {
        "id": "va8T51Ha2Sx5",
        "colab_type": "code",
        "colab": {}
      },
      "source": [
        "assert results.all() == results2.all()"
      ],
      "execution_count": 0,
      "outputs": []
    },
    {
      "cell_type": "code",
      "metadata": {
        "id": "Q49SW7KA2YVP",
        "colab_type": "code",
        "colab": {
          "base_uri": "https://localhost:8080/",
          "height": 816
        },
        "outputId": "f4fc5ff0-9ae2-4648-87dc-5e150c7f09c7"
      },
      "source": [
        "\n",
        "#transfer learning com resnet\n",
        "from keras import applications \n",
        "\n",
        "\n",
        "vgg_model = applications.VGG16(weights='imagenet', \n",
        "                      include_top=False, \n",
        "                      input_shape=(224, 224, 3))\n",
        "\n",
        "vgg_model.summary()"
      ],
      "execution_count": 80,
      "outputs": [
        {
          "output_type": "stream",
          "text": [
            "Downloading data from https://github.com/fchollet/deep-learning-models/releases/download/v0.1/vgg16_weights_tf_dim_ordering_tf_kernels_notop.h5\n",
            "58892288/58889256 [==============================] - 1s 0us/step\n",
            "_________________________________________________________________\n",
            "Layer (type)                 Output Shape              Param #   \n",
            "=================================================================\n",
            "input_3 (InputLayer)         (None, 224, 224, 3)       0         \n",
            "_________________________________________________________________\n",
            "block1_conv1 (Conv2D)        (None, 224, 224, 64)      1792      \n",
            "_________________________________________________________________\n",
            "block1_conv2 (Conv2D)        (None, 224, 224, 64)      36928     \n",
            "_________________________________________________________________\n",
            "block1_pool (MaxPooling2D)   (None, 112, 112, 64)      0         \n",
            "_________________________________________________________________\n",
            "block2_conv1 (Conv2D)        (None, 112, 112, 128)     73856     \n",
            "_________________________________________________________________\n",
            "block2_conv2 (Conv2D)        (None, 112, 112, 128)     147584    \n",
            "_________________________________________________________________\n",
            "block2_pool (MaxPooling2D)   (None, 56, 56, 128)       0         \n",
            "_________________________________________________________________\n",
            "block3_conv1 (Conv2D)        (None, 56, 56, 256)       295168    \n",
            "_________________________________________________________________\n",
            "block3_conv2 (Conv2D)        (None, 56, 56, 256)       590080    \n",
            "_________________________________________________________________\n",
            "block3_conv3 (Conv2D)        (None, 56, 56, 256)       590080    \n",
            "_________________________________________________________________\n",
            "block3_pool (MaxPooling2D)   (None, 28, 28, 256)       0         \n",
            "_________________________________________________________________\n",
            "block4_conv1 (Conv2D)        (None, 28, 28, 512)       1180160   \n",
            "_________________________________________________________________\n",
            "block4_conv2 (Conv2D)        (None, 28, 28, 512)       2359808   \n",
            "_________________________________________________________________\n",
            "block4_conv3 (Conv2D)        (None, 28, 28, 512)       2359808   \n",
            "_________________________________________________________________\n",
            "block4_pool (MaxPooling2D)   (None, 14, 14, 512)       0         \n",
            "_________________________________________________________________\n",
            "block5_conv1 (Conv2D)        (None, 14, 14, 512)       2359808   \n",
            "_________________________________________________________________\n",
            "block5_conv2 (Conv2D)        (None, 14, 14, 512)       2359808   \n",
            "_________________________________________________________________\n",
            "block5_conv3 (Conv2D)        (None, 14, 14, 512)       2359808   \n",
            "_________________________________________________________________\n",
            "block5_pool (MaxPooling2D)   (None, 7, 7, 512)         0         \n",
            "=================================================================\n",
            "Total params: 14,714,688\n",
            "Trainable params: 14,714,688\n",
            "Non-trainable params: 0\n",
            "_________________________________________________________________\n"
          ],
          "name": "stdout"
        }
      ]
    },
    {
      "cell_type": "code",
      "metadata": {
        "id": "zOZ2HNzA4Ybq",
        "colab_type": "code",
        "colab": {}
      },
      "source": [
        "layer_dict = dict([(layer.name, layer) for layer in vgg_model.layers])\n"
      ],
      "execution_count": 0,
      "outputs": []
    },
    {
      "cell_type": "code",
      "metadata": {
        "id": "hT_l10MY8Yu0",
        "colab_type": "code",
        "colab": {}
      },
      "source": [
        "x = layer_dict['block5_pool'].output\n",
        "x = GlobalAveragePooling2D(input_shape=train_tensors.shape[1:])(x)\n",
        "x = Dense(2, activation='sigmoid')(x)"
      ],
      "execution_count": 0,
      "outputs": []
    },
    {
      "cell_type": "code",
      "metadata": {
        "id": "s6q0lHUXAUqE",
        "colab_type": "code",
        "colab": {
          "base_uri": "https://localhost:8080/",
          "height": 904
        },
        "outputId": "fb8bc972-a93a-4281-ef5f-5669546f78ec"
      },
      "source": [
        "from keras.models import Model\n",
        "\n",
        "transfer_model = Model(input=vgg_model.input, output=x)\n",
        "\n",
        "#previnindo para não treinar a rede nos nós já treinados\n",
        "for layer in transfer_model.layers[:18]:\n",
        "  layer.trainable = False\n",
        "  \n",
        "transfer_model.summary()\n",
        "\n",
        "transfer_model.compile(optimizer='rmsprop', loss='categorical_crossentropy', metrics=['accuracy'])\n"
      ],
      "execution_count": 90,
      "outputs": [
        {
          "output_type": "stream",
          "text": [
            "_________________________________________________________________\n",
            "Layer (type)                 Output Shape              Param #   \n",
            "=================================================================\n",
            "input_3 (InputLayer)         (None, 224, 224, 3)       0         \n",
            "_________________________________________________________________\n",
            "block1_conv1 (Conv2D)        (None, 224, 224, 64)      1792      \n",
            "_________________________________________________________________\n",
            "block1_conv2 (Conv2D)        (None, 224, 224, 64)      36928     \n",
            "_________________________________________________________________\n",
            "block1_pool (MaxPooling2D)   (None, 112, 112, 64)      0         \n",
            "_________________________________________________________________\n",
            "block2_conv1 (Conv2D)        (None, 112, 112, 128)     73856     \n",
            "_________________________________________________________________\n",
            "block2_conv2 (Conv2D)        (None, 112, 112, 128)     147584    \n",
            "_________________________________________________________________\n",
            "block2_pool (MaxPooling2D)   (None, 56, 56, 128)       0         \n",
            "_________________________________________________________________\n",
            "block3_conv1 (Conv2D)        (None, 56, 56, 256)       295168    \n",
            "_________________________________________________________________\n",
            "block3_conv2 (Conv2D)        (None, 56, 56, 256)       590080    \n",
            "_________________________________________________________________\n",
            "block3_conv3 (Conv2D)        (None, 56, 56, 256)       590080    \n",
            "_________________________________________________________________\n",
            "block3_pool (MaxPooling2D)   (None, 28, 28, 256)       0         \n",
            "_________________________________________________________________\n",
            "block4_conv1 (Conv2D)        (None, 28, 28, 512)       1180160   \n",
            "_________________________________________________________________\n",
            "block4_conv2 (Conv2D)        (None, 28, 28, 512)       2359808   \n",
            "_________________________________________________________________\n",
            "block4_conv3 (Conv2D)        (None, 28, 28, 512)       2359808   \n",
            "_________________________________________________________________\n",
            "block4_pool (MaxPooling2D)   (None, 14, 14, 512)       0         \n",
            "_________________________________________________________________\n",
            "block5_conv1 (Conv2D)        (None, 14, 14, 512)       2359808   \n",
            "_________________________________________________________________\n",
            "block5_conv2 (Conv2D)        (None, 14, 14, 512)       2359808   \n",
            "_________________________________________________________________\n",
            "block5_conv3 (Conv2D)        (None, 14, 14, 512)       2359808   \n",
            "_________________________________________________________________\n",
            "block5_pool (MaxPooling2D)   (None, 7, 7, 512)         0         \n",
            "_________________________________________________________________\n",
            "global_average_pooling2d_5 ( (None, 512)               0         \n",
            "_________________________________________________________________\n",
            "dense_3 (Dense)              (None, 2)                 1026      \n",
            "=================================================================\n",
            "Total params: 14,715,714\n",
            "Trainable params: 1,026\n",
            "Non-trainable params: 14,714,688\n",
            "_________________________________________________________________\n"
          ],
          "name": "stdout"
        },
        {
          "output_type": "stream",
          "text": [
            "/usr/local/lib/python3.6/dist-packages/ipykernel_launcher.py:3: UserWarning: Update your `Model` call to the Keras 2 API: `Model(inputs=Tensor(\"in..., outputs=Tensor(\"de...)`\n",
            "  This is separate from the ipykernel package so we can avoid doing imports until\n"
          ],
          "name": "stderr"
        }
      ]
    },
    {
      "cell_type": "code",
      "metadata": {
        "id": "jJ0EVpy8BTv3",
        "colab_type": "code",
        "colab": {
          "base_uri": "https://localhost:8080/",
          "height": 1000
        },
        "outputId": "9dd21b21-6c1f-4711-f968-162eb11a1839"
      },
      "source": [
        "\n",
        "#Treinando o novo modelo\n",
        "from keras.callbacks import ModelCheckpoint  \n",
        "from keras.utils import to_categorical\n",
        "\n",
        "\n",
        "epochs = 50\n",
        "\n",
        "\n",
        "checkpointer = ModelCheckpoint(filepath='saved_models/weights.best.from_scratch.hdf5',\n",
        "                              verbose=1, save_best_only=True)\n",
        "\n",
        "\n",
        "transfer_model.fit(train_tensors, to_categorical(y_train),\n",
        "         validation_data=(valid_tensors, to_categorical(y_val)),\n",
        "         epochs=epochs, batch_size=20, callbacks=[checkpointer], verbose=1)"
      ],
      "execution_count": 92,
      "outputs": [
        {
          "output_type": "stream",
          "text": [
            "Train on 161 samples, validate on 41 samples\n",
            "Epoch 1/50\n",
            "161/161 [==============================] - 103s 642ms/step - loss: 0.8395 - acc: 0.3851 - val_loss: 0.7335 - val_acc: 0.3902\n",
            "\n",
            "Epoch 00001: val_loss improved from inf to 0.73351, saving model to saved_models/weights.best.from_scratch.hdf5\n",
            "Epoch 2/50\n",
            "161/161 [==============================] - 101s 625ms/step - loss: 0.6946 - acc: 0.5217 - val_loss: 0.6453 - val_acc: 0.6098\n",
            "\n",
            "Epoch 00002: val_loss improved from 0.73351 to 0.64528, saving model to saved_models/weights.best.from_scratch.hdf5\n",
            "Epoch 3/50\n",
            "161/161 [==============================] - 101s 626ms/step - loss: 0.6495 - acc: 0.6149 - val_loss: 0.6369 - val_acc: 0.6098\n",
            "\n",
            "Epoch 00003: val_loss improved from 0.64528 to 0.63692, saving model to saved_models/weights.best.from_scratch.hdf5\n",
            "Epoch 4/50\n",
            "161/161 [==============================] - 101s 625ms/step - loss: 0.6418 - acc: 0.6149 - val_loss: 0.6333 - val_acc: 0.6098\n",
            "\n",
            "Epoch 00004: val_loss improved from 0.63692 to 0.63329, saving model to saved_models/weights.best.from_scratch.hdf5\n",
            "Epoch 5/50\n",
            "161/161 [==============================] - 101s 626ms/step - loss: 0.6375 - acc: 0.6149 - val_loss: 0.6273 - val_acc: 0.6098\n",
            "\n",
            "Epoch 00005: val_loss improved from 0.63329 to 0.62729, saving model to saved_models/weights.best.from_scratch.hdf5\n",
            "Epoch 6/50\n",
            "161/161 [==============================] - 101s 626ms/step - loss: 0.6312 - acc: 0.6149 - val_loss: 0.6193 - val_acc: 0.6585\n",
            "\n",
            "Epoch 00006: val_loss improved from 0.62729 to 0.61928, saving model to saved_models/weights.best.from_scratch.hdf5\n",
            "Epoch 7/50\n",
            "161/161 [==============================] - 101s 625ms/step - loss: 0.6226 - acc: 0.6398 - val_loss: 0.6108 - val_acc: 0.6098\n",
            "\n",
            "Epoch 00007: val_loss improved from 0.61928 to 0.61077, saving model to saved_models/weights.best.from_scratch.hdf5\n",
            "Epoch 8/50\n",
            "161/161 [==============================] - 101s 625ms/step - loss: 0.6141 - acc: 0.6211 - val_loss: 0.6060 - val_acc: 0.6585\n",
            "\n",
            "Epoch 00008: val_loss improved from 0.61077 to 0.60598, saving model to saved_models/weights.best.from_scratch.hdf5\n",
            "Epoch 9/50\n",
            "161/161 [==============================] - 101s 626ms/step - loss: 0.6090 - acc: 0.6646 - val_loss: 0.5973 - val_acc: 0.6341\n",
            "\n",
            "Epoch 00009: val_loss improved from 0.60598 to 0.59730, saving model to saved_models/weights.best.from_scratch.hdf5\n",
            "Epoch 10/50\n",
            "161/161 [==============================] - 101s 625ms/step - loss: 0.6008 - acc: 0.6708 - val_loss: 0.5931 - val_acc: 0.7561\n",
            "\n",
            "Epoch 00010: val_loss improved from 0.59730 to 0.59308, saving model to saved_models/weights.best.from_scratch.hdf5\n",
            "Epoch 11/50\n",
            "161/161 [==============================] - 101s 626ms/step - loss: 0.5946 - acc: 0.7205 - val_loss: 0.5929 - val_acc: 0.8537\n",
            "\n",
            "Epoch 00011: val_loss improved from 0.59308 to 0.59294, saving model to saved_models/weights.best.from_scratch.hdf5\n",
            "Epoch 12/50\n",
            "161/161 [==============================] - 101s 626ms/step - loss: 0.5918 - acc: 0.7578 - val_loss: 0.5899 - val_acc: 0.8537\n",
            "\n",
            "Epoch 00012: val_loss improved from 0.59294 to 0.58986, saving model to saved_models/weights.best.from_scratch.hdf5\n",
            "Epoch 13/50\n",
            "161/161 [==============================] - 101s 625ms/step - loss: 0.5867 - acc: 0.7516 - val_loss: 0.5820 - val_acc: 0.8537\n",
            "\n",
            "Epoch 00013: val_loss improved from 0.58986 to 0.58198, saving model to saved_models/weights.best.from_scratch.hdf5\n",
            "Epoch 14/50\n",
            "161/161 [==============================] - 101s 626ms/step - loss: 0.5782 - acc: 0.7764 - val_loss: 0.5783 - val_acc: 0.8537\n",
            "\n",
            "Epoch 00014: val_loss improved from 0.58198 to 0.57827, saving model to saved_models/weights.best.from_scratch.hdf5\n",
            "Epoch 15/50\n",
            "161/161 [==============================] - 101s 625ms/step - loss: 0.5726 - acc: 0.7888 - val_loss: 0.5604 - val_acc: 0.6829\n",
            "\n",
            "Epoch 00015: val_loss improved from 0.57827 to 0.56040, saving model to saved_models/weights.best.from_scratch.hdf5\n",
            "Epoch 16/50\n",
            "161/161 [==============================] - 101s 625ms/step - loss: 0.5646 - acc: 0.7516 - val_loss: 0.5545 - val_acc: 0.8537\n",
            "\n",
            "Epoch 00016: val_loss improved from 0.56040 to 0.55451, saving model to saved_models/weights.best.from_scratch.hdf5\n",
            "Epoch 17/50\n",
            "161/161 [==============================] - 101s 625ms/step - loss: 0.5567 - acc: 0.7888 - val_loss: 0.5478 - val_acc: 0.7317\n",
            "\n",
            "Epoch 00017: val_loss improved from 0.55451 to 0.54779, saving model to saved_models/weights.best.from_scratch.hdf5\n",
            "Epoch 18/50\n",
            "161/161 [==============================] - 101s 625ms/step - loss: 0.5501 - acc: 0.7578 - val_loss: 0.5452 - val_acc: 0.7317\n",
            "\n",
            "Epoch 00018: val_loss improved from 0.54779 to 0.54515, saving model to saved_models/weights.best.from_scratch.hdf5\n",
            "Epoch 19/50\n",
            "161/161 [==============================] - 101s 625ms/step - loss: 0.5458 - acc: 0.7391 - val_loss: 0.5408 - val_acc: 0.7317\n",
            "\n",
            "Epoch 00019: val_loss improved from 0.54515 to 0.54081, saving model to saved_models/weights.best.from_scratch.hdf5\n",
            "Epoch 20/50\n",
            "161/161 [==============================] - 101s 625ms/step - loss: 0.5397 - acc: 0.7391 - val_loss: 0.5379 - val_acc: 0.7317\n",
            "\n",
            "Epoch 00020: val_loss improved from 0.54081 to 0.53786, saving model to saved_models/weights.best.from_scratch.hdf5\n",
            "Epoch 21/50\n",
            "161/161 [==============================] - 101s 626ms/step - loss: 0.5374 - acc: 0.7453 - val_loss: 0.5307 - val_acc: 0.7317\n",
            "\n",
            "Epoch 00021: val_loss improved from 0.53786 to 0.53069, saving model to saved_models/weights.best.from_scratch.hdf5\n",
            "Epoch 22/50\n",
            "161/161 [==============================] - 101s 625ms/step - loss: 0.5333 - acc: 0.7516 - val_loss: 0.5253 - val_acc: 0.7561\n",
            "\n",
            "Epoch 00022: val_loss improved from 0.53069 to 0.52526, saving model to saved_models/weights.best.from_scratch.hdf5\n",
            "Epoch 23/50\n",
            "161/161 [==============================] - 101s 625ms/step - loss: 0.5227 - acc: 0.7826 - val_loss: 0.5222 - val_acc: 0.7561\n",
            "\n",
            "Epoch 00023: val_loss improved from 0.52526 to 0.52216, saving model to saved_models/weights.best.from_scratch.hdf5\n",
            "Epoch 24/50\n",
            "161/161 [==============================] - 101s 625ms/step - loss: 0.5176 - acc: 0.7702 - val_loss: 0.5198 - val_acc: 0.8780\n",
            "\n",
            "Epoch 00024: val_loss improved from 0.52216 to 0.51983, saving model to saved_models/weights.best.from_scratch.hdf5\n",
            "Epoch 25/50\n",
            "161/161 [==============================] - 101s 627ms/step - loss: 0.5137 - acc: 0.7826 - val_loss: 0.5256 - val_acc: 0.8537\n",
            "\n",
            "Epoch 00025: val_loss did not improve from 0.51983\n",
            "Epoch 26/50\n",
            "161/161 [==============================] - 101s 625ms/step - loss: 0.5100 - acc: 0.8199 - val_loss: 0.5049 - val_acc: 0.8049\n",
            "\n",
            "Epoch 00026: val_loss improved from 0.51983 to 0.50492, saving model to saved_models/weights.best.from_scratch.hdf5\n",
            "Epoch 27/50\n",
            "161/161 [==============================] - 101s 625ms/step - loss: 0.5040 - acc: 0.7888 - val_loss: 0.5055 - val_acc: 0.7561\n",
            "\n",
            "Epoch 00027: val_loss did not improve from 0.50492\n",
            "Epoch 28/50\n",
            "161/161 [==============================] - 101s 626ms/step - loss: 0.5004 - acc: 0.7826 - val_loss: 0.5064 - val_acc: 0.7561\n",
            "\n",
            "Epoch 00028: val_loss did not improve from 0.50492\n",
            "Epoch 29/50\n",
            "161/161 [==============================] - 101s 625ms/step - loss: 0.4985 - acc: 0.7826 - val_loss: 0.4952 - val_acc: 0.8780\n",
            "\n",
            "Epoch 00029: val_loss improved from 0.50492 to 0.49516, saving model to saved_models/weights.best.from_scratch.hdf5\n",
            "Epoch 30/50\n",
            "161/161 [==============================] - 101s 625ms/step - loss: 0.4874 - acc: 0.7950 - val_loss: 0.4931 - val_acc: 0.7805\n",
            "\n",
            "Epoch 00030: val_loss improved from 0.49516 to 0.49309, saving model to saved_models/weights.best.from_scratch.hdf5\n",
            "Epoch 31/50\n",
            "161/161 [==============================] - 101s 626ms/step - loss: 0.4866 - acc: 0.7764 - val_loss: 0.4887 - val_acc: 0.7805\n",
            "\n",
            "Epoch 00031: val_loss improved from 0.49309 to 0.48872, saving model to saved_models/weights.best.from_scratch.hdf5\n",
            "Epoch 32/50\n",
            "161/161 [==============================] - 101s 625ms/step - loss: 0.4810 - acc: 0.7888 - val_loss: 0.5009 - val_acc: 0.8293\n",
            "\n",
            "Epoch 00032: val_loss did not improve from 0.48872\n",
            "Epoch 33/50\n",
            "161/161 [==============================] - 101s 625ms/step - loss: 0.4808 - acc: 0.8075 - val_loss: 0.4968 - val_acc: 0.8293\n",
            "\n",
            "Epoch 00033: val_loss did not improve from 0.48872\n",
            "Epoch 34/50\n",
            "161/161 [==============================] - 101s 627ms/step - loss: 0.4771 - acc: 0.8323 - val_loss: 0.4805 - val_acc: 0.8049\n",
            "\n",
            "Epoch 00034: val_loss improved from 0.48872 to 0.48049, saving model to saved_models/weights.best.from_scratch.hdf5\n",
            "Epoch 35/50\n",
            "161/161 [==============================] - 101s 627ms/step - loss: 0.4696 - acc: 0.8012 - val_loss: 0.4776 - val_acc: 0.8049\n",
            "\n",
            "Epoch 00035: val_loss improved from 0.48049 to 0.47758, saving model to saved_models/weights.best.from_scratch.hdf5\n",
            "Epoch 36/50\n",
            "161/161 [==============================] - 101s 627ms/step - loss: 0.4643 - acc: 0.8075 - val_loss: 0.4720 - val_acc: 0.8537\n",
            "\n",
            "Epoch 00036: val_loss improved from 0.47758 to 0.47200, saving model to saved_models/weights.best.from_scratch.hdf5\n",
            "Epoch 37/50\n",
            "161/161 [==============================] - 101s 626ms/step - loss: 0.4670 - acc: 0.8012 - val_loss: 0.4772 - val_acc: 0.7805\n",
            "\n",
            "Epoch 00037: val_loss did not improve from 0.47200\n",
            "Epoch 38/50\n",
            "161/161 [==============================] - 101s 626ms/step - loss: 0.4621 - acc: 0.8075 - val_loss: 0.4690 - val_acc: 0.8780\n",
            "\n",
            "Epoch 00038: val_loss improved from 0.47200 to 0.46900, saving model to saved_models/weights.best.from_scratch.hdf5\n",
            "Epoch 39/50\n",
            "161/161 [==============================] - 101s 626ms/step - loss: 0.4555 - acc: 0.8137 - val_loss: 0.4713 - val_acc: 0.8537\n",
            "\n",
            "Epoch 00039: val_loss did not improve from 0.46900\n",
            "Epoch 40/50\n",
            "161/161 [==============================] - 101s 627ms/step - loss: 0.4528 - acc: 0.8075 - val_loss: 0.4611 - val_acc: 0.8537\n",
            "\n",
            "Epoch 00040: val_loss improved from 0.46900 to 0.46112, saving model to saved_models/weights.best.from_scratch.hdf5\n",
            "Epoch 41/50\n",
            "161/161 [==============================] - 101s 627ms/step - loss: 0.4522 - acc: 0.8075 - val_loss: 0.4614 - val_acc: 0.8049\n",
            "\n",
            "Epoch 00041: val_loss did not improve from 0.46112\n",
            "Epoch 42/50\n",
            "161/161 [==============================] - 101s 627ms/step - loss: 0.4451 - acc: 0.8137 - val_loss: 0.4617 - val_acc: 0.8780\n",
            "\n",
            "Epoch 00042: val_loss did not improve from 0.46112\n",
            "Epoch 43/50\n",
            "161/161 [==============================] - 101s 627ms/step - loss: 0.4415 - acc: 0.8323 - val_loss: 0.4502 - val_acc: 0.8780\n",
            "\n",
            "Epoch 00043: val_loss improved from 0.46112 to 0.45017, saving model to saved_models/weights.best.from_scratch.hdf5\n",
            "Epoch 44/50\n",
            "161/161 [==============================] - 101s 626ms/step - loss: 0.4382 - acc: 0.8199 - val_loss: 0.4512 - val_acc: 0.8537\n",
            "\n",
            "Epoch 00044: val_loss did not improve from 0.45017\n",
            "Epoch 45/50\n",
            "161/161 [==============================] - 101s 627ms/step - loss: 0.4335 - acc: 0.8323 - val_loss: 0.4575 - val_acc: 0.8537\n",
            "\n",
            "Epoch 00045: val_loss did not improve from 0.45017\n",
            "Epoch 46/50\n",
            "161/161 [==============================] - 101s 626ms/step - loss: 0.4318 - acc: 0.8261 - val_loss: 0.4456 - val_acc: 0.8780\n",
            "\n",
            "Epoch 00046: val_loss improved from 0.45017 to 0.44557, saving model to saved_models/weights.best.from_scratch.hdf5\n",
            "Epoch 47/50\n",
            "161/161 [==============================] - 101s 626ms/step - loss: 0.4305 - acc: 0.8323 - val_loss: 0.4464 - val_acc: 0.8537\n",
            "\n",
            "Epoch 00047: val_loss did not improve from 0.44557\n",
            "Epoch 48/50\n",
            "161/161 [==============================] - 101s 626ms/step - loss: 0.4274 - acc: 0.8261 - val_loss: 0.4507 - val_acc: 0.8780\n",
            "\n",
            "Epoch 00048: val_loss did not improve from 0.44557\n",
            "Epoch 49/50\n",
            "161/161 [==============================] - 101s 626ms/step - loss: 0.4245 - acc: 0.8261 - val_loss: 0.4443 - val_acc: 0.8537\n",
            "\n",
            "Epoch 00049: val_loss improved from 0.44557 to 0.44426, saving model to saved_models/weights.best.from_scratch.hdf5\n",
            "Epoch 50/50\n",
            "161/161 [==============================] - 101s 626ms/step - loss: 0.4225 - acc: 0.8385 - val_loss: 0.4421 - val_acc: 0.8780\n",
            "\n",
            "Epoch 00050: val_loss improved from 0.44426 to 0.44209, saving model to saved_models/weights.best.from_scratch.hdf5\n"
          ],
          "name": "stdout"
        },
        {
          "output_type": "execute_result",
          "data": {
            "text/plain": [
              "<keras.callbacks.History at 0x7f0b581b7cc0>"
            ]
          },
          "metadata": {
            "tags": []
          },
          "execution_count": 92
        }
      ]
    },
    {
      "cell_type": "code",
      "metadata": {
        "id": "RFroUEkaCE_E",
        "colab_type": "code",
        "colab": {
          "base_uri": "https://localhost:8080/",
          "height": 34
        },
        "outputId": "95ea4b16-5d7b-4b6e-df3f-89366d31931c"
      },
      "source": [
        "# get index of predicted dog breed for each image in test set\n",
        "predictions = [np.argmax(transfer_model.predict(np.expand_dims(tensor, axis=0))) for tensor in test_tensors]\n",
        "\n",
        "\n",
        "# report test accuracy\n",
        "test_accuracy = 100*np.sum(np.array(predictions)==np.argmax(to_categorical(y_test), axis=1))/len(predictions)\n",
        "print('Test accuracy: %.4f%%' % test_accuracy)"
      ],
      "execution_count": 93,
      "outputs": [
        {
          "output_type": "stream",
          "text": [
            "Test accuracy: 82.3529%\n"
          ],
          "name": "stdout"
        }
      ]
    },
    {
      "cell_type": "code",
      "metadata": {
        "id": "R57ta9keXRj-",
        "colab_type": "code",
        "colab": {}
      },
      "source": [
        "from google.colab import files\n",
        "files.download('saved_models/weights.best.from_scratch.hdf5') "
      ],
      "execution_count": 0,
      "outputs": []
    },
    {
      "cell_type": "code",
      "metadata": {
        "id": "TOJPSclNXWe2",
        "colab_type": "code",
        "colab": {}
      },
      "source": [
        ""
      ],
      "execution_count": 0,
      "outputs": []
    }
  ]
}